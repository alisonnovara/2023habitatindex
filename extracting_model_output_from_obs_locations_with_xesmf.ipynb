{
 "cells": [
  {
   "cell_type": "code",
   "execution_count": 4,
   "id": "ac987626",
   "metadata": {},
   "outputs": [],
   "source": [
    "import numpy as np\n",
    "import netCDF4 as nc\n",
    "import csv \n",
    "import matplotlib.pyplot as plt \n",
    "import matplotlib.dates as pltd\n",
    "import cartopy.crs as ccrs\n",
    "import cartopy.feature as cfeature\n",
    "import datetime as dt\n",
    "from matplotlib.collections import PolyCollection\n",
    "import pandas\n",
    "import xarray as xr\n",
    "import xesmf as xe"
   ]
  },
  {
   "cell_type": "code",
   "execution_count": 5,
   "id": "99500935",
   "metadata": {},
   "outputs": [],
   "source": [
    "file_dir = '/work/Alison.Novara/'\n",
    "\n",
    "# For now, this is a dictionary containg the file names. \n",
    "#     We can add more to it to include details for plots and analyses\n",
    "organism_dict = {'A_irradians_range',\n",
    "                 'L_helicina_range',\n",
    "                 'P_astreoides_range'}\n"
   ]
  },
  {
   "cell_type": "code",
   "execution_count": 6,
   "id": "7d9f01ad",
   "metadata": {},
   "outputs": [
    {
     "data": {
      "text/html": [
       "<div>\n",
       "<style scoped>\n",
       "    .dataframe tbody tr th:only-of-type {\n",
       "        vertical-align: middle;\n",
       "    }\n",
       "\n",
       "    .dataframe tbody tr th {\n",
       "        vertical-align: top;\n",
       "    }\n",
       "\n",
       "    .dataframe thead th {\n",
       "        text-align: right;\n",
       "    }\n",
       "</style>\n",
       "<table border=\"1\" class=\"dataframe\">\n",
       "  <thead>\n",
       "    <tr style=\"text-align: right;\">\n",
       "      <th></th>\n",
       "      <th>latitude</th>\n",
       "      <th>longitude</th>\n",
       "    </tr>\n",
       "  </thead>\n",
       "  <tbody>\n",
       "    <tr>\n",
       "      <th>NaN</th>\n",
       "      <td>9.25</td>\n",
       "      <td>80.25</td>\n",
       "    </tr>\n",
       "    <tr>\n",
       "      <th>NaN</th>\n",
       "      <td>9.25</td>\n",
       "      <td>82.25</td>\n",
       "    </tr>\n",
       "    <tr>\n",
       "      <th>NaN</th>\n",
       "      <td>9.75</td>\n",
       "      <td>-75.75</td>\n",
       "    </tr>\n",
       "    <tr>\n",
       "      <th>NaN</th>\n",
       "      <td>10.25</td>\n",
       "      <td>-83.25</td>\n",
       "    </tr>\n",
       "    <tr>\n",
       "      <th>NaN</th>\n",
       "      <td>11.25</td>\n",
       "      <td>-70.25</td>\n",
       "    </tr>\n",
       "    <tr>\n",
       "      <th>...</th>\n",
       "      <td>...</td>\n",
       "      <td>...</td>\n",
       "    </tr>\n",
       "    <tr>\n",
       "      <th>NaN</th>\n",
       "      <td>42.25</td>\n",
       "      <td>-70.75</td>\n",
       "    </tr>\n",
       "    <tr>\n",
       "      <th>NaN</th>\n",
       "      <td>42.25</td>\n",
       "      <td>-71.25</td>\n",
       "    </tr>\n",
       "    <tr>\n",
       "      <th>NaN</th>\n",
       "      <td>42.75</td>\n",
       "      <td>-70.75</td>\n",
       "    </tr>\n",
       "    <tr>\n",
       "      <th>NaN</th>\n",
       "      <td>43.75</td>\n",
       "      <td>-70.25</td>\n",
       "    </tr>\n",
       "    <tr>\n",
       "      <th>NaN</th>\n",
       "      <td>44.75</td>\n",
       "      <td>-66.75</td>\n",
       "    </tr>\n",
       "  </tbody>\n",
       "</table>\n",
       "<p>106 rows × 2 columns</p>\n",
       "</div>"
      ],
      "text/plain": [
       "     latitude  longitude\n",
       "NaN      9.25      80.25\n",
       "NaN      9.25      82.25\n",
       "NaN      9.75     -75.75\n",
       "NaN     10.25     -83.25\n",
       "NaN     11.25     -70.25\n",
       "..        ...        ...\n",
       "NaN     42.25     -70.75\n",
       "NaN     42.25     -71.25\n",
       "NaN     42.75     -70.75\n",
       "NaN     43.75     -70.25\n",
       "NaN     44.75     -66.75\n",
       "\n",
       "[106 rows x 2 columns]"
      ]
     },
     "execution_count": 6,
     "metadata": {},
     "output_type": "execute_result"
    }
   ],
   "source": [
    "# Here I have chosen to just look at the irradians as a test case for the code. You can sub in any of the files\n",
    "csv_fil = file_dir + 'A_irradians_range'\n",
    "\n",
    "location_df = pandas.read_csv(csv_fil,encoding= 'unicode_escape')\n",
    "# show what's in dataframe df:\n",
    "location_df"
   ]
  },
  {
   "cell_type": "code",
   "execution_count": 7,
   "id": "5e1bbb21",
   "metadata": {},
   "outputs": [],
   "source": [
    "# Read in the carbonate chemistry files - we're starting with the historical period\n",
    "ksp_fid = nc.Dataset('co3satarag_1975-2014_his.nc')\n",
    "co3_fid = nc.Dataset('co3_1975-2014_his.nc')\n",
    "\n",
    "# extract the variable from the netcdf file. \n",
    "co3sat = ksp_fid.variables['co3satarag'][:].squeeze()\n",
    "co3 = co3_fid.variables['co3'][:].squeeze()\n",
    "\n",
    "# just using the surface\n",
    "surf_co3sat = co3sat[:,0,:,:]\n",
    "surf_co3 = co3[:,0,:,:]\n",
    "\n",
    "# calculating aragonite saturation state:\n",
    "#    co3/co3sat = arag saturation state \n",
    "surf_arag_sat = np.mean(surf_co3/surf_co3sat,axis=0)\n",
    "surf_arag_sat.fill_value = 0\n",
    "\n",
    "# geographic information\n",
    "lat = ksp_fid.variables['lat'][:]\n",
    "lon = ksp_fid.variables['lon'][:]\n",
    "\n",
    "# Corner lat/lon for pcolormesh plots\n",
    "clat = np.append(ksp_fid.variables['lat_bnds'][:,0],ksp_fid.variables['lat_bnds'][-1,-1])\n",
    "clon = np.append(ksp_fid.variables['lon_bnds'][:,0],ksp_fid.variables['lon_bnds'][-1,-1])"
   ]
  },
  {
   "cell_type": "markdown",
   "id": "519ecfd9",
   "metadata": {},
   "source": [
    "## Making the xarray Datasets for using with the xesmf regridder. "
   ]
  },
  {
   "cell_type": "code",
   "execution_count": 8,
   "id": "339d0dfa",
   "metadata": {},
   "outputs": [],
   "source": [
    "# extracting the lon/lat variables from the dataframe\n",
    "# defining the xarray Dataset for the organism locations\n",
    "organism_locs = xr.Dataset()\n",
    "organism_locs[\"lon\"] = xr.DataArray(data=location_df.longitude, dims=(\"locations\"))\n",
    "organism_locs[\"lat\"] = xr.DataArray(data=location_df.latitude, dims=(\"locations\"))\n",
    "\n",
    "\n",
    "# defining the model grid as an xarray Dataset\n",
    "model_grid = xr.Dataset()\n",
    "\n",
    "# adding in the information for the geographic coordinates\n",
    "model_grid[\"lon\"] = xr.DataArray(data=lon, dims=(\"lon\"))\n",
    "model_grid[\"lat\"] = xr.DataArray(data=lat, dims=(\"lat\"))\n",
    "\n",
    "\n",
    "# Creating the xesmf regridder o\n",
    "regridder = xe.Regridder(model_grid, organism_locs, 'nearest_s2d', locstream_out=True, periodic=True)"
   ]
  },
  {
   "cell_type": "markdown",
   "id": "08467cac",
   "metadata": {},
   "source": [
    "## Getting organism values for aragonite saturation state"
   ]
  },
  {
   "cell_type": "code",
   "execution_count": 9,
   "id": "694ea9fc",
   "metadata": {},
   "outputs": [],
   "source": [
    "organism_surf_arag = regridder(surf_arag_sat).squeeze()"
   ]
  },
  {
   "cell_type": "markdown",
   "id": "51792e6f",
   "metadata": {},
   "source": [
    "## Plot distribution of historical mean-state surface aragonite saturation state for this organism\n"
   ]
  },
  {
   "cell_type": "code",
   "execution_count": 10,
   "id": "b06f7d7a",
   "metadata": {},
   "outputs": [
    {
     "data": {
      "text/plain": [
       "(array([ 7.,  0.,  0.,  0.,  3., 16., 11., 18., 46.,  5.]),\n",
       " array([0.        , 0.46645625, 0.9329125 , 1.39936874, 1.86582499,\n",
       "        2.33228124, 2.79873749, 3.26519374, 3.73164998, 4.19810623,\n",
       "        4.66456248]),\n",
       " <BarContainer object of 10 artists>)"
      ]
     },
     "execution_count": 10,
     "metadata": {},
     "output_type": "execute_result"
    },
    {
     "data": {
      "image/png": "[encoded data removed]",
      "text/plain": [
       "<Figure size 640x480 with 1 Axes>"
      ]
     },
     "metadata": {},
     "output_type": "display_data"
    }
   ],
   "source": [
    "# Simple histogram\n",
    "plt.hist(organism_surf_arag)"
   ]
  },
  {
   "cell_type": "code",
   "execution_count": 11,
   "id": "7ba44eba",
   "metadata": {},
   "outputs": [
    {
     "data": {
      "image/png": "[encoded data removed]",
      "text/plain": [
       "<Figure size 640x480 with 1 Axes>"
      ]
     },
     "metadata": {},
     "output_type": "display_data"
    }
   ],
   "source": [
    "# fancier histogram plot\n",
    "num_bins = 20\n",
    "n, bins, patches = plt.hist(organism_surf_arag, num_bins, facecolor='blue', edgecolor = 'black', alpha=0.5)\n",
    "title = plt.title('Historical Distribution of Aragonite Saturation State \\n for A_irradians')"
   ]
  },
  {
   "cell_type": "code",
   "execution_count": 12,
   "id": "ea89867c",
   "metadata": {},
   "outputs": [],
   "source": [
    "# Now we can add the future model output for comparison. Notice that I have added \"fut\" to all\n",
    "# of the variable names to distinguish them from the historical values we read in earlier\n",
    "\n",
    "# Read in the carbonate chemistry files - we're starting with the historical period\n",
    "ksp_fut_fid = nc.Dataset('co3satarag_2061-2100_ssp585.nc')\n",
    "co3_fut_fid = nc.Dataset('co3_2061-2100_ssp585.nc')\n",
    "\n",
    "# extract the variable from the netcdf file. \n",
    "co3sat_fut = ksp_fut_fid.variables['co3satarag'][:].squeeze()\n",
    "co3_fut = co3_fut_fid.variables['co3'][:].squeeze()\n",
    "\n",
    "# just using the surface\n",
    "surf_co3sat_fut = co3sat_fut[:,0,:,:]\n",
    "surf_co3_fut = co3_fut[:,0,:,:]\n",
    "\n",
    "# calculating aragonite saturation state:\n",
    "#    co3/co3sat = arag saturation state \n",
    "surf_arag_sat_fut = np.mean(surf_co3_fut/surf_co3sat_fut,axis=0)\n",
    "surf_arag_sat_fut.fill_value = 0"
   ]
  },
  {
   "cell_type": "code",
   "execution_count": 13,
   "id": "82f87d94",
   "metadata": {},
   "outputs": [],
   "source": [
    "# we can use the same regridder tool we made earlier since the lat/lon locations \"should\" not have changed\n",
    "organism_surf_arag_fut = regridder(surf_arag_sat_fut).squeeze()"
   ]
  },
  {
   "cell_type": "code",
   "execution_count": 14,
   "id": "32e08987",
   "metadata": {},
   "outputs": [
    {
     "data": {
      "text/plain": [
       "<matplotlib.legend.Legend at 0x2b4150daf410>"
      ]
     },
     "execution_count": 14,
     "metadata": {},
     "output_type": "execute_result"
    },
    {
     "data": {
      "image/png": "[encoded data removed]",
      "text/plain": [
       "<Figure size 640x480 with 1 Axes>"
      ]
     },
     "metadata": {},
     "output_type": "display_data"
    }
   ],
   "source": [
    "# comparison of future vs. historical\n",
    "num_bins = 20\n",
    "n, bins, patches = plt.hist(organism_surf_arag, num_bins, facecolor='blue', edgecolor = 'black', alpha=0.5, label = 'historical (1975-2014)')\n",
    "n, bins, patches = plt.hist(organism_surf_arag_fut, num_bins, facecolor='red', edgecolor = 'black', alpha=0.5, label = 'future (2061-2100)')\n",
    "title = plt.title('Historical vs. Future Distribution of Aragonite Saturation State \\n for A_irradians')\n",
    "plt.legend()"
   ]
  },
  {
   "cell_type": "code",
   "execution_count": 15,
   "id": "1e29d95b",
   "metadata": {},
   "outputs": [],
   "source": [
    "# Try this out, experimenting with out you would want the plots to look"
   ]
  },
  {
   "cell_type": "code",
   "execution_count": null,
   "id": "d065c535",
   "metadata": {},
   "outputs": [],
   "source": []
  },
  {
   "cell_type": "code",
   "execution_count": null,
   "id": "ef705596",
   "metadata": {},
   "outputs": [],
   "source": []
  },
  {
   "cell_type": "code",
   "execution_count": null,
   "id": "e4aaac55",
   "metadata": {},
   "outputs": [],
   "source": []
  },
  {
   "cell_type": "code",
   "execution_count": 77,
   "id": "af30aeab",
   "metadata": {},
   "outputs": [],
   "source": [
    "# Here is a code below showing how I currently generate figures when I want to perform \n",
    "# a common step ( such as calculations or plots ) over and over again"
   ]
  },
  {
   "cell_type": "code",
   "execution_count": 18,
   "id": "2aaeefa0",
   "metadata": {},
   "outputs": [],
   "source": [
    "# I start with my dictionaries with all the details I want \n",
    "file_dir = '/work/Alison.Novara/'\n",
    "\n",
    "# For now, this is a dictionary containg the file names. \n",
    "#     We can add more to it to include details for plots and analyses\n",
    "organism_dict = {'scallop':{'file_name':'A_irradians', 'plot_title':'$\\it{Argopecten}$ $\\it{irradians}$', 'his_color':'darkblue'},\n",
    "                 'pteropod':{'file_name':'L_helicina','plot_title':'$\\it{Limacina}$ $\\it{helicina}$','his_color':'mediumpurple'},\n",
    "                 'coral':{'file_name':'P_astreoides','plot_title':'$\\it{Porites}$ $\\it{astreoides}$','his_color':'orange'}}\n",
    "\n",
    "time_periods = ['1975-2014_his','2061-2100_ssp585']\n"
   ]
  },
  {
   "cell_type": "code",
   "execution_count": 19,
   "id": "a34c641e",
   "metadata": {},
   "outputs": [],
   "source": [
    "import copy\n",
    "\n",
    "# Here I am itterating over the time periods because it's the same process for reading them in\n",
    "# I just need to need to be careful about assigning them the correct variable name at the end\n",
    "\n",
    "for time_per in time_periods:\n",
    "    \n",
    "    # create the file name string\n",
    "    co3satarag_ncfile = 'co3satarag_' + time_per + '.nc'\n",
    "    co3_ncfile = 'co3_' + time_per + '.nc'\n",
    "    \n",
    "    # Read in the carbonate chemistry files - we're starting with the historical period\n",
    "    ksp_fid = nc.Dataset(co3satarag_ncfile)\n",
    "    co3_fid = nc.Dataset(co3_ncfile)\n",
    "\n",
    "    # extract the variable from the netcdf file. \n",
    "    co3sat = ksp_fid.variables['co3satarag'][:].squeeze()\n",
    "    co3 = co3_fid.variables['co3'][:].squeeze()\n",
    "\n",
    "    # just using the surface\n",
    "    surf_co3sats = co3sat[:,0,:,:]\n",
    "    surf_co3 = co3[:,0,:,:]\n",
    "\n",
    "    # calculating aragonite saturation state:\n",
    "    #    co3/co3sat = arag saturation state \n",
    "    surf_arag_sat = np.mean(surf_co3/surf_co3sat,axis=0)\n",
    "    surf_arag_sat.fill_value = 0\n",
    "    \n",
    "    if time_per == '1975-2014_his':\n",
    "        # save the historical value for saturation state \n",
    "        surf_arag_sat_his = copy.deepcopy(surf_arag_sat)\n",
    "        \n",
    "        # geographic information\n",
    "        lat = ksp_fid.variables['lat'][:]\n",
    "        lon = ksp_fid.variables['lon'][:]\n",
    "\n",
    "        # Corner lat/lon for pcolormesh plots\n",
    "        clat = np.append(ksp_fid.variables['lat_bnds'][:,0],ksp_fid.variables['lat_bnds'][-1,-1])\n",
    "        clon = np.append(ksp_fid.variables['lon_bnds'][:,0],ksp_fid.variables['lon_bnds'][-1,-1])\n",
    "        \n",
    "        # generate the xarray Dataset for the model grid\n",
    "        # defining the model grid as an xarray Dataset\n",
    "        model_grid = xr.Dataset()\n",
    "\n",
    "        # adding in the information for the geographic coordinates\n",
    "        model_grid[\"lon\"] = xr.DataArray(data=lon, dims=(\"lon\"))\n",
    "        model_grid[\"lat\"] = xr.DataArray(data=lat, dims=(\"lat\"))\n",
    "\n",
    "    else:\n",
    "        # save the historical value for saturation state \n",
    "        surf_arag_sat_fut = copy.deepcopy(surf_arag_sat)\n"
   ]
  },
  {
   "cell_type": "code",
   "execution_count": 1,
   "id": "a9a6a6eb",
   "metadata": {},
   "outputs": [],
   "source": [
    "def plot_arag_hist():\n",
    "    plt.figure()\n",
    "    n, bins, patches = plt.hist(organism_surf_arag_his, num_bins, facecolor=organism_dict[critter]['his_color'], edgecolor = 'black', alpha=0.75, label = 'historical (1975-2014)')\n",
    "    n, bins, patches = plt.hist(organism_surf_arag_fut, num_bins, facecolor='red', edgecolor = 'black', alpha=0.6, label = 'future (2061-2100)')\n",
    "    title = plt.title(('Historical and Projected Distributions of Aragonite Saturation State \\n for ' + organism_dict[critter]['plot_title']), fontweight='bold')\n",
    "    plt.xlabel('Aragonite Saturation State')\n",
    "    plt.ylabel('# of locations')\n",
    "    plt.legend()\n",
    "    plt.savefig(critter)"
   ]
  },
  {
   "cell_type": "code",
   "execution_count": 2,
   "id": "6ec31543",
   "metadata": {},
   "outputs": [
    {
     "ename": "NameError",
     "evalue": "name 'organism_dict' is not defined",
     "output_type": "error",
     "traceback": [
      "\u001b[0;31m---------------------------------------------------------------------------\u001b[0m",
      "\u001b[0;31mNameError\u001b[0m                                 Traceback (most recent call last)",
      "Cell \u001b[0;32mIn[2], line 5\u001b[0m\n\u001b[1;32m      1\u001b[0m \u001b[38;5;66;03m# I want to make a futre vs. historical plot for all three organisms\u001b[39;00m\n\u001b[1;32m      2\u001b[0m \n\u001b[1;32m      3\u001b[0m \u001b[38;5;66;03m# I iterate over all of the organisms in the dictionary\u001b[39;00m\n\u001b[1;32m      4\u001b[0m \u001b[38;5;66;03m#colors = ['darkblue', 'mediumpurple', 'orange'] \u001b[39;00m\n\u001b[0;32m----> 5\u001b[0m \u001b[38;5;28;01mfor\u001b[39;00m i, critter \u001b[38;5;129;01min\u001b[39;00m \u001b[38;5;28menumerate\u001b[39m(\u001b[43morganism_dict\u001b[49m):\n\u001b[1;32m      6\u001b[0m     \u001b[38;5;28mprint\u001b[39m(critter)\n\u001b[1;32m      8\u001b[0m     \u001b[38;5;66;03m# construct string for file name\u001b[39;00m\n",
      "\u001b[0;31mNameError\u001b[0m: name 'organism_dict' is not defined"
     ]
    }
   ],
   "source": [
    "# I want to make a futre vs. historical plot for all three organisms\n",
    "\n",
    "# I iterate over all of the organisms in the dictionary\n",
    "#colors = ['darkblue', 'mediumpurple', 'orange'] \n",
    "for i, critter in enumerate(organism_dict):\n",
    "    print(critter)\n",
    "   \n",
    "    # construct string for file name\n",
    "    csv_fil = file_dir + organism_dict[critter]['file_name'] + '_range'\n",
    "    #print(csv_fil)\n",
    "\n",
    "    # create the pandas dataframe\n",
    "    if critter == 'scallop':\n",
    "        location_df = pandas.read_csv(csv_fil)\n",
    "    else: \n",
    "        location_df = pandas.read_csv(csv_fil,delim_whitespace=True)\n",
    "    # show what's in dataframe df:\n",
    "    #print(location_df)\n",
    "    \n",
    "    # extracting the lon/lat variables from the dataframe\n",
    "    # defining the xarray Dataset for the organism locations\n",
    "    organism_locs = xr.Dataset()\n",
    "    organism_locs[\"lon\"] = xr.DataArray(data=location_df.longitude, dims=(\"locations\"))\n",
    "    organism_locs[\"lat\"] = xr.DataArray(data=location_df.latitude, dims=(\"locations\"))\n",
    "    \n",
    "    # Creating the xesmf regridder which will be different for each organism\n",
    "    regridder = xe.Regridder(model_grid, organism_locs, 'nearest_s2d', locstream_out=True, periodic=True)\n",
    "    \n",
    "    organism_surf_arag_his = regridder(surf_arag_sat_his).squeeze()\n",
    "    organism_surf_arag_fut = regridder(surf_arag_sat_fut).squeeze()\n",
    "   \n",
    "    # I've made a function for generating the individual figures because it's the same for every \n",
    "    # organism and I wanted to separate it from the rest of the code because it felt \"cleaner\"\n",
    " \n",
    "    plot_arag_hist()"
   ]
  },
  {
   "cell_type": "code",
   "execution_count": null,
   "id": "dca0d4d4",
   "metadata": {},
   "outputs": [],
   "source": []
  },
  {
   "cell_type": "code",
   "execution_count": null,
   "id": "f540fab9",
   "metadata": {},
   "outputs": [],
   "source": []
  }
 ],
 "metadata": {
  "kernelspec": {
   "display_name": "Python 3 (ipykernel)",
   "language": "python",
   "name": "python3"
  },
  "language_info": {
   "codemirror_mode": {
    "name": "ipython",
    "version": 3
   },
   "file_extension": ".py",
   "mimetype": "text/x-python",
   "name": "python",
   "nbconvert_exporter": "python",
   "pygments_lexer": "ipython3",
   "version": "3.11.3"
  }
 },
 "nbformat": 4,
 "nbformat_minor": 5
}
